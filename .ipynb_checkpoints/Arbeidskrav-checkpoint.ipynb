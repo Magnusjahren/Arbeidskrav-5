{
 "cells": [
  {
   "cell_type": "code",
   "execution_count": null,
   "id": "7cc38cd5-865b-422f-9031-3de9d110fad6",
   "metadata": {},
   "outputs": [],
   "source": [
    "Magnus Hirgum Jahren"
   ]
  },
  {
   "cell_type": "code",
   "execution_count": null,
   "id": "4f59da7c-4145-4da6-a6de-92b61811f696",
   "metadata": {},
   "outputs": [],
   "source": [
    "#Oppgave 15"
   ]
  },
  {
   "cell_type": "code",
   "execution_count": 9,
   "id": "9fc81e62-c191-4573-adf3-10eedd2aa4db",
   "metadata": {},
   "outputs": [],
   "source": [
    "\n",
    "import sympy as sp\n",
    "from sympy.solvers import solve"
   ]
  },
  {
   "cell_type": "code",
   "execution_count": 10,
   "id": "d2069960-c815-42e8-bd1d-e3157b45ab7f",
   "metadata": {},
   "outputs": [],
   "source": [
    "x, y = sp.symbols(\"x, y\")\n",
    "symbols = [x,y]\n",
    "equations = [sp.Eq(3*x-12,-6*y),\n",
    "             sp.Eq(4*x-8*y,16)]"
   ]
  },
  {
   "cell_type": "code",
   "execution_count": 11,
   "id": "b6ad0cda-e47c-40e5-b4bf-a6dc5d8d2765",
   "metadata": {},
   "outputs": [
    {
     "data": {
      "text/plain": [
       "{x: 4, y: 0}"
      ]
     },
     "execution_count": 11,
     "metadata": {},
     "output_type": "execute_result"
    }
   ],
   "source": [
    "solve(equations,symbols)"
   ]
  },
  {
   "cell_type": "code",
   "execution_count": 12,
   "id": "e20cc680-a25a-40aa-a0cb-de0fa32be91d",
   "metadata": {},
   "outputs": [],
   "source": [
    "b = [sp.Eq(x**2 + 4*x-3,3*y),\n",
    "     sp.Eq(2*y, 8-x)]\n",
    "     "
   ]
  },
  {
   "cell_type": "code",
   "execution_count": 13,
   "id": "c1dac62b-f79f-46dc-ac5f-ff35cc465ff8",
   "metadata": {},
   "outputs": [
    {
     "data": {
      "text/plain": [
       "[(-15/2, 31/4), (2, 3)]"
      ]
     },
     "execution_count": 13,
     "metadata": {},
     "output_type": "execute_result"
    }
   ],
   "source": [
    "solve(b,symbols)"
   ]
  },
  {
   "cell_type": "code",
   "execution_count": null,
   "id": "1473273b-b305-405d-9a68-baa90f4f5a18",
   "metadata": {},
   "outputs": [],
   "source": [
    "#Oppgave 16"
   ]
  },
  {
   "cell_type": "code",
   "execution_count": 14,
   "id": "fbd11bc3-a208-42a7-8383-9d5ce3a2bdde",
   "metadata": {},
   "outputs": [
    {
     "data": {
      "text/plain": [
       "[(0, -5), (12, 1)]"
      ]
     },
     "execution_count": 14,
     "metadata": {},
     "output_type": "execute_result"
    }
   ],
   "source": [
    "#1b\n",
    " \n",
    "c = [sp.Eq(2*x + y**2, 25),\n",
    "     sp.Eq(x-2*y, 10)]\n",
    "solve(c,symbols)"
   ]
  },
  {
   "cell_type": "code",
   "execution_count": 15,
   "id": "cec6680f-eeef-4b99-86b7-552f30b60b97",
   "metadata": {},
   "outputs": [
    {
     "data": {
      "text/plain": [
       "{x: 4, y: 2}"
      ]
     },
     "execution_count": 15,
     "metadata": {},
     "output_type": "execute_result"
    }
   ],
   "source": [
    "#2a\n",
    "\n",
    "to_a = [sp.Eq(4*x-4*y, 8),\n",
    "        sp.Eq(9*x-5*y, 26)]\n",
    "solve(to_a,symbols)"
   ]
  },
  {
   "cell_type": "code",
   "execution_count": 16,
   "id": "53d8449a-2063-4a15-b1b6-54ec46dc6269",
   "metadata": {},
   "outputs": [
    {
     "data": {
      "text/plain": [
       "[(-9, -2*sqrt(3)), (-9, 2*sqrt(3)), (7, -2), (7, 2)]"
      ]
     },
     "execution_count": 16,
     "metadata": {},
     "output_type": "execute_result"
    }
   ],
   "source": [
    "#2b\n",
    "\n",
    "to_b = [sp.Eq(x+2*y**2, 15),\n",
    "        sp.Eq(x**2 - 4*y**2, 33)]\n",
    "solve(to_b, symbols)"
   ]
  },
  {
   "cell_type": "code",
   "execution_count": null,
   "id": "b329b24c-70f4-41cc-8484-a8a00333fa81",
   "metadata": {},
   "outputs": [],
   "source": [
    "#Oppgave 17"
   ]
  },
  {
   "cell_type": "code",
   "execution_count": 18,
   "id": "2fbf75c4-e098-467c-aaf4-37bc62104ad2",
   "metadata": {},
   "outputs": [
    {
     "data": {
      "text/plain": [
       "[(-10, 0), (-6, -8), (-6, 8), (6, -8), (6, 8), (10, 0)]"
      ]
     },
     "execution_count": 18,
     "metadata": {},
     "output_type": "execute_result"
    }
   ],
   "source": [
    "#1b\n",
    "\n",
    "b_ = [sp.Eq(x**2+y**2, 100),\n",
    "      sp.Eq(x**2*y-36*y, 0)]\n",
    "solve(b_,symbols)"
   ]
  },
  {
   "cell_type": "code",
   "execution_count": 19,
   "id": "243927b8-d1f3-460f-97a1-0e994d93ffdb",
   "metadata": {},
   "outputs": [
    {
     "data": {
      "text/plain": [
       "[(-3, -7), (-3, 7), (0, -sqrt(58)), (0, sqrt(58)), (3, -7), (3, 7)]"
      ]
     },
     "execution_count": 19,
     "metadata": {},
     "output_type": "execute_result"
    }
   ],
   "source": [
    "#2a\n",
    "\n",
    "a_ = [sp.Eq(x*y**2 - 49*x, 0),\n",
    "      sp.Eq(x**2 + y**2, 58)]\n",
    "solve(a_,symbols)"
   ]
  },
  {
   "cell_type": "code",
   "execution_count": 22,
   "id": "ca14f441-7398-4357-9e79-84692a5fdade",
   "metadata": {},
   "outputs": [
    {
     "data": {
      "text/plain": [
       "[(-1.11803398874989, 0.0),\n",
       " (-0.500000000000000, -1.00000000000000),\n",
       " (-0.500000000000000, 1.00000000000000),\n",
       " (1.11803398874989, 0.0)]"
      ]
     },
     "execution_count": 22,
     "metadata": {},
     "output_type": "execute_result"
    }
   ],
   "source": [
    "#2b\n",
    "\n",
    "b_2 = [sp.Eq(x**2 + y**2, 5/4),\n",
    "       sp.Eq(2*x*y + y, 0)]\n",
    "solve(b_2,symbols)"
   ]
  },
  {
   "cell_type": "code",
   "execution_count": null,
   "id": "71ad8660-aede-4b2d-a52f-dc228a6db350",
   "metadata": {},
   "outputs": [],
   "source": [
    "#Oppgave 19"
   ]
  },
  {
   "cell_type": "code",
   "execution_count": 23,
   "id": "ec336d1d-5b36-4e4b-ae74-0b2ea10523c3",
   "metadata": {},
   "outputs": [
    {
     "data": {
      "text/latex": [
       "$\\displaystyle 5 x^{4}$"
      ],
      "text/plain": [
       "5*x**4"
      ]
     },
     "execution_count": 23,
     "metadata": {},
     "output_type": "execute_result"
    }
   ],
   "source": [
    "#a\n",
    "sp.diff(x**5,x)"
   ]
  },
  {
   "cell_type": "code",
   "execution_count": 24,
   "id": "fa00af02-cc47-4cea-9e98-92474e1827d0",
   "metadata": {},
   "outputs": [
    {
     "data": {
      "text/latex": [
       "$\\displaystyle 1$"
      ],
      "text/plain": [
       "1"
      ]
     },
     "execution_count": 24,
     "metadata": {},
     "output_type": "execute_result"
    }
   ],
   "source": [
    "#b\n",
    "sp.diff(x+12,x)"
   ]
  },
  {
   "cell_type": "code",
   "execution_count": 25,
   "id": "074f9edb-8eea-4153-a9d2-5256370ac405",
   "metadata": {},
   "outputs": [
    {
     "data": {
      "text/latex": [
       "$\\displaystyle 3 x^{2} + 8 x$"
      ],
      "text/plain": [
       "3*x**2 + 8*x"
      ]
     },
     "execution_count": 25,
     "metadata": {},
     "output_type": "execute_result"
    }
   ],
   "source": [
    "#c\n",
    "sp.diff(x**3+4*x**2,x)"
   ]
  },
  {
   "cell_type": "code",
   "execution_count": 26,
   "id": "f2d62f06-de0f-4be8-9642-956883a67ee5",
   "metadata": {},
   "outputs": [
    {
     "data": {
      "text/latex": [
       "$\\displaystyle \\frac{1}{2 \\sqrt{x}}$"
      ],
      "text/plain": [
       "1/(2*sqrt(x))"
      ]
     },
     "execution_count": 26,
     "metadata": {},
     "output_type": "execute_result"
    }
   ],
   "source": [
    "#e\n",
    "sp.diff(sp.sqrt(x)+ 5**2,x)"
   ]
  },
  {
   "cell_type": "code",
   "execution_count": 27,
   "id": "72e1a733-e2db-4160-9f12-c09c22880101",
   "metadata": {},
   "outputs": [
    {
     "data": {
      "text/latex": [
       "$\\displaystyle 3 x^{2} - \\frac{1}{x^{2}}$"
      ],
      "text/plain": [
       "3*x**2 - 1/x**2"
      ]
     },
     "execution_count": 27,
     "metadata": {},
     "output_type": "execute_result"
    }
   ],
   "source": [
    "#f\n",
    "sp.diff(x**3 + 1/x,x)"
   ]
  },
  {
   "cell_type": "code",
   "execution_count": 28,
   "id": "26231c92-8887-46c4-b525-f33d007383fa",
   "metadata": {},
   "outputs": [
    {
     "data": {
      "text/latex": [
       "$\\displaystyle 3 x^{2} - 2 x + 0.25$"
      ],
      "text/plain": [
       "3*x**2 - 2*x + 0.25"
      ]
     },
     "execution_count": 28,
     "metadata": {},
     "output_type": "execute_result"
    }
   ],
   "source": [
    "#g\n",
    "sp.diff(x**3-x**2 + (1/4*x),x)"
   ]
  },
  {
   "cell_type": "code",
   "execution_count": null,
   "id": "2e6496d2-e4ad-49d5-9938-1e32b39ae09c",
   "metadata": {},
   "outputs": [],
   "source": [
    "#Oppgave 2 "
   ]
  },
  {
   "cell_type": "code",
   "execution_count": 29,
   "id": "066f4f61-ba69-4adc-853c-7e6e84e69287",
   "metadata": {},
   "outputs": [
    {
     "data": {
      "text/latex": [
       "$\\displaystyle 36 x^{5} - \\frac{1}{x^{2}}$"
      ],
      "text/plain": [
       "36*x**5 - 1/x**2"
      ]
     },
     "execution_count": 29,
     "metadata": {},
     "output_type": "execute_result"
    }
   ],
   "source": [
    "#2a\n",
    "sp.diff(1/x + 6*x**6,x)"
   ]
  },
  {
   "cell_type": "code",
   "execution_count": 30,
   "id": "49f9369d-7e8f-404e-8a75-19d504e970bf",
   "metadata": {},
   "outputs": [
    {
     "data": {
      "text/latex": [
       "$\\displaystyle 1.5 x^{2} - 1$"
      ],
      "text/plain": [
       "1.5*x**2 - 1"
      ]
     },
     "execution_count": 30,
     "metadata": {},
     "output_type": "execute_result"
    }
   ],
   "source": [
    "#2b\n",
    "sp.diff(-x+ (1/2*x**3),x)"
   ]
  },
  {
   "cell_type": "code",
   "execution_count": 34,
   "id": "0784c635-b818-45db-ba8d-969cc8c58104",
   "metadata": {},
   "outputs": [
    {
     "data": {
      "text/latex": [
       "$\\displaystyle x^{2} + x \\left(2 x + 2\\right) + 2 x - 3$"
      ],
      "text/plain": [
       "x**2 + x*(2*x + 2) + 2*x - 3"
      ]
     },
     "execution_count": 34,
     "metadata": {},
     "output_type": "execute_result"
    }
   ],
   "source": [
    "#2c\n",
    "sp.diff(x*(x**2 + 2*x-3))"
   ]
  },
  {
   "cell_type": "code",
   "execution_count": null,
   "id": "158d2729-7a71-4a58-971d-14cc7a7ff4fd",
   "metadata": {},
   "outputs": [],
   "source": [
    "#Oppgave 21"
   ]
  },
  {
   "cell_type": "code",
   "execution_count": 40,
   "id": "920f4eae-b96e-4cf8-bcec-af60e1815a10",
   "metadata": {},
   "outputs": [
    {
     "data": {
      "text/latex": [
       "$\\displaystyle \\left(3 x^{2} + 6\\right)^{5}$"
      ],
      "text/plain": [
       "(3*x**2 + 6)**5"
      ]
     },
     "execution_count": 40,
     "metadata": {},
     "output_type": "execute_result"
    }
   ],
   "source": [
    "#a\n",
    "sp.diff(x**3 + 6*x)**5"
   ]
  },
  {
   "cell_type": "code",
   "execution_count": 45,
   "id": "9136bd04-75f3-4cf7-af86-a454c308f3ba",
   "metadata": {},
   "outputs": [
    {
     "data": {
      "text/latex": [
       "$\\displaystyle - \\frac{8 \\left(3 x + 2\\right)^{3}}{x^{5}}$"
      ],
      "text/plain": [
       "-8*(3*x + 2)**3/x**5"
      ]
     },
     "execution_count": 45,
     "metadata": {},
     "output_type": "execute_result"
    }
   ],
   "source": [
    "#c\n",
    "solved=sp.diff((2*x/x**2+3)**4,x)\n",
    "sp.simplify(solved)"
   ]
  },
  {
   "cell_type": "code",
   "execution_count": 48,
   "id": "4310d49d-d81f-4665-83d6-ce170f2788bb",
   "metadata": {},
   "outputs": [
    {
     "data": {
      "text/latex": [
       "$\\displaystyle 12 x^{3} \\left(2 x^{4} + 9\\right)^{2}$"
      ],
      "text/plain": [
       "12*x**3*(2*x**4 + 9)**2"
      ]
     },
     "execution_count": 48,
     "metadata": {},
     "output_type": "execute_result"
    }
   ],
   "source": [
    "#d\n",
    "oppgd = sp.diff((2*x**4 + 9)**3/2,x)\n",
    "sp.simplify(oppgd)"
   ]
  },
  {
   "cell_type": "code",
   "execution_count": 50,
   "id": "90e8a2ae-79b5-4f00-ae85-2bcc50403c66",
   "metadata": {},
   "outputs": [
    {
     "data": {
      "text/latex": [
       "$\\displaystyle - \\frac{x}{\\left(x^{2} + 1\\right)^{\\frac{3}{2}}}$"
      ],
      "text/plain": [
       "-x/(x**2 + 1)**(3/2)"
      ]
     },
     "execution_count": 50,
     "metadata": {},
     "output_type": "execute_result"
    }
   ],
   "source": [
    "#e\n",
    "oppge = sp.diff(1/sp.sqrt(1+x**2),x)\n",
    "sp.simplify(oppge)"
   ]
  },
  {
   "cell_type": "code",
   "execution_count": 51,
   "id": "13e8954f-5e31-48d2-8773-e30029083b99",
   "metadata": {},
   "outputs": [
    {
     "data": {
      "text/latex": [
       "$\\displaystyle x^{4} \\left(x + 2\\right)^{2} \\cdot \\left(8 x + 10\\right)$"
      ],
      "text/plain": [
       "x**4*(x + 2)**2*(8*x + 10)"
      ]
     },
     "execution_count": 51,
     "metadata": {},
     "output_type": "execute_result"
    }
   ],
   "source": [
    "#f\n",
    "oppgf = sp.diff(x**2*(x**2+2*x)**3,x)\n",
    "sp.simplify(oppgf)"
   ]
  },
  {
   "cell_type": "code",
   "execution_count": 54,
   "id": "6f9bba50-6040-4e7a-b308-9785f070d8bd",
   "metadata": {},
   "outputs": [
    {
     "data": {
      "text/latex": [
       "$\\displaystyle \\frac{x^{2} \\cdot \\left(3 x - 5\\right)}{\\sqrt{x \\left(x - 2\\right)}}$"
      ],
      "text/plain": [
       "x**2*(3*x - 5)/sqrt(x*(x - 2))"
      ]
     },
     "execution_count": 54,
     "metadata": {},
     "output_type": "execute_result"
    }
   ],
   "source": [
    "oppgg =sp.diff(x**2*sp.sqrt(x**2-2*x),x)\n",
    "sp.simplify(oppgg)"
   ]
  },
  {
   "cell_type": "code",
   "execution_count": 55,
   "id": "24c9641d-ada1-4d97-8b5c-dc28432ef767",
   "metadata": {},
   "outputs": [
    {
     "data": {
      "text/latex": [
       "$\\displaystyle \\frac{- 4 x - 1}{x^{2} \\left(x + 1\\right)^{4}}$"
      ],
      "text/plain": [
       "(-4*x - 1)/(x**2*(x + 1)**4)"
      ]
     },
     "execution_count": 55,
     "metadata": {},
     "output_type": "execute_result"
    }
   ],
   "source": [
    "#h\n",
    "oppgh = sp.diff(x**2/(x**2+x)**3,x)\n",
    "sp.simplify(oppgh)"
   ]
  },
  {
   "cell_type": "code",
   "execution_count": 56,
   "id": "fc6fe72e-8054-42f8-a5fa-1cef52e7525d",
   "metadata": {},
   "outputs": [
    {
     "data": {
      "text/latex": [
       "$\\displaystyle x \\left(x^{2} + 1\\right) \\left(x^{3} + 1\\right)^{2} \\cdot \\left(4 x^{3} + 9 x \\left(x^{2} + 1\\right) + 4\\right)$"
      ],
      "text/plain": [
       "x*(x**2 + 1)*(x**3 + 1)**2*(4*x**3 + 9*x*(x**2 + 1) + 4)"
      ]
     },
     "execution_count": 56,
     "metadata": {},
     "output_type": "execute_result"
    }
   ],
   "source": [
    "#i\n",
    "oppgi = sp.diff((x**2 + 1)**2 * (x**3 + 1)**3,x)\n",
    "sp.simplify(oppgi)"
   ]
  },
  {
   "cell_type": "code",
   "execution_count": null,
   "id": "ae997269-edd8-41aa-a4fe-0c387219950f",
   "metadata": {},
   "outputs": [],
   "source": [
    "#oppgave 2"
   ]
  },
  {
   "cell_type": "code",
   "execution_count": 57,
   "id": "76a38127-b07f-4c36-b03d-9d86e711665f",
   "metadata": {},
   "outputs": [
    {
     "data": {
      "text/latex": [
       "$\\displaystyle 4 x \\left(3 x + 1\\right) \\left(3 x + 2\\right)$"
      ],
      "text/plain": [
       "4*x*(3*x + 1)*(3*x + 2)"
      ]
     },
     "execution_count": 57,
     "metadata": {},
     "output_type": "execute_result"
    }
   ],
   "source": [
    "oppg2a = sp.diff(sp.sqrt(3*x**2 + 2*x)**4,x)\n",
    "sp.simplify(oppg2a)"
   ]
  },
  {
   "cell_type": "code",
   "execution_count": 59,
   "id": "8d83959e-5ff3-4eff-9955-fd068ad571fb",
   "metadata": {},
   "outputs": [
    {
     "data": {
      "text/latex": [
       "$\\displaystyle x \\left(x^{2} + 3\\right)^{3} \\left(x^{3} + 3\\right)^{4} \\cdot \\left(8 x^{3} + 15 x \\left(x^{2} + 3\\right) + 24\\right)$"
      ],
      "text/plain": [
       "x*(x**2 + 3)**3*(x**3 + 3)**4*(8*x**3 + 15*x*(x**2 + 3) + 24)"
      ]
     },
     "execution_count": 59,
     "metadata": {},
     "output_type": "execute_result"
    }
   ],
   "source": [
    "#2b\n",
    "oppg2b = sp.diff((x**3+3)**5 * (x**2 + 3)**4,x)\n",
    "sp.simplify(oppg2b)"
   ]
  },
  {
   "cell_type": "code",
   "execution_count": 60,
   "id": "e264c673-4d0b-47fe-bcd9-10bee8058d73",
   "metadata": {},
   "outputs": [
    {
     "data": {
      "text/latex": [
       "$\\displaystyle \\frac{\\sqrt{2} \\sqrt{x^{2}}}{x}$"
      ],
      "text/plain": [
       "sqrt(2)*sqrt(x**2)/x"
      ]
     },
     "execution_count": 60,
     "metadata": {},
     "output_type": "execute_result"
    }
   ],
   "source": [
    "#2c\n",
    "oppg2c = sp.diff(sp.sqrt(x**2 + 1 * x**2),x)\n",
    "sp.simplify(oppg2c)"
   ]
  },
  {
   "cell_type": "code",
   "execution_count": 61,
   "id": "b479d5ff-1004-41c6-8b3f-ea57107e12bd",
   "metadata": {},
   "outputs": [
    {
     "data": {
      "text/latex": [
       "$\\displaystyle \\left(3 x + 2\\right)^{2} \\cdot \\left(12 x + 2\\right)$"
      ],
      "text/plain": [
       "(3*x + 2)**2*(12*x + 2)"
      ]
     },
     "execution_count": 61,
     "metadata": {},
     "output_type": "execute_result"
    }
   ],
   "source": [
    "#2d\n",
    "oppg2d = sp.diff((2*x + 3*x**2)**3 / x**2,x)\n",
    "sp.simplify(oppg2d)"
   ]
  },
  {
   "cell_type": "code",
   "execution_count": 63,
   "id": "b44f95f7-7424-47cd-b50b-e2455efd5141",
   "metadata": {},
   "outputs": [
    {
     "data": {
      "text/latex": [
       "$\\displaystyle \\frac{4 x^{3}}{3 \\left(x^{4} - 5\\right)^{\\frac{2}{3}}}$"
      ],
      "text/plain": [
       "4*x**3/(3*(x**4 - 5)**(2/3))"
      ]
     },
     "execution_count": 63,
     "metadata": {},
     "output_type": "execute_result"
    }
   ],
   "source": [
    "#2e\n",
    "oppg2e = sp.diff(sp.cbrt(x**4-5),x)\n",
    "sp.simplify(oppg2e)"
   ]
  },
  {
   "cell_type": "code",
   "execution_count": 65,
   "id": "1b8930ef-1dcd-4d3b-b1f1-3029d30bfa77",
   "metadata": {},
   "outputs": [
    {
     "data": {
      "text/latex": [
       "$\\displaystyle \\frac{x^{2} \\left(x^{4} - 3\\right)}{\\left(x^{4} - 1\\right)^{\\frac{3}{2}}}$"
      ],
      "text/plain": [
       "x**2*(x**4 - 3)/(x**4 - 1)**(3/2)"
      ]
     },
     "execution_count": 65,
     "metadata": {},
     "output_type": "execute_result"
    }
   ],
   "source": [
    "#2f\n",
    "\n",
    "oppg2f = sp.diff(x**3/sp.sqrt(x**4-1),x)\n",
    "sp.simplify(oppg2f)               "
   ]
  },
  {
   "cell_type": "code",
   "execution_count": null,
   "id": "0709d362-e16a-45df-9d9a-6cdbd926de0b",
   "metadata": {},
   "outputs": [],
   "source": [
    "#oppgave 22"
   ]
  },
  {
   "cell_type": "code",
   "execution_count": 66,
   "id": "abc3a856-ba56-47cd-9c48-8ee6f4050b4d",
   "metadata": {},
   "outputs": [
    {
     "data": {
      "text/latex": [
       "$\\displaystyle \\frac{1}{x}$"
      ],
      "text/plain": [
       "1/x"
      ]
     },
     "execution_count": 66,
     "metadata": {},
     "output_type": "execute_result"
    }
   ],
   "source": [
    "#oppgave 1a\n",
    "sp.diff(sp.log(5*x),x)"
   ]
  },
  {
   "cell_type": "code",
   "execution_count": 67,
   "id": "9b7cd429-ff58-4286-bf4d-311cb94b1493",
   "metadata": {},
   "outputs": [
    {
     "data": {
      "text/latex": [
       "$\\displaystyle 2^{x} \\log{\\left(2 \\right)}$"
      ],
      "text/plain": [
       "2**x*log(2)"
      ]
     },
     "execution_count": 67,
     "metadata": {},
     "output_type": "execute_result"
    }
   ],
   "source": [
    "#1d\n",
    "sp.diff(2**x,x)"
   ]
  },
  {
   "cell_type": "code",
   "execution_count": 68,
   "id": "9ab98b1a-5835-49ca-94bb-3ca1fa2ec2f1",
   "metadata": {},
   "outputs": [
    {
     "data": {
      "text/latex": [
       "$\\displaystyle 3 e^{3 x + 5}$"
      ],
      "text/plain": [
       "3*exp(3*x + 5)"
      ]
     },
     "execution_count": 68,
     "metadata": {},
     "output_type": "execute_result"
    }
   ],
   "source": [
    "#1e\n",
    "sp.diff(sp.exp(3*x+5),x)"
   ]
  },
  {
   "cell_type": "code",
   "execution_count": 69,
   "id": "db9b3e81-0316-4371-b66c-73576364810b",
   "metadata": {},
   "outputs": [
    {
     "data": {
      "text/latex": [
       "$\\displaystyle \\frac{5 x^{4}}{x^{5} + 1}$"
      ],
      "text/plain": [
       "5*x**4/(x**5 + 1)"
      ]
     },
     "execution_count": 69,
     "metadata": {},
     "output_type": "execute_result"
    }
   ],
   "source": [
    "#1f\n",
    "sp.diff(sp.log(x**5+1),x)"
   ]
  },
  {
   "cell_type": "code",
   "execution_count": 70,
   "id": "ce56bd2c-d058-484c-b92c-e5039a91ad70",
   "metadata": {},
   "outputs": [
    {
     "data": {
      "text/latex": [
       "$\\displaystyle \\left(8 x + 8\\right) e^{4 x^{2} + 8 x}$"
      ],
      "text/plain": [
       "(8*x + 8)*exp(4*x**2 + 8*x)"
      ]
     },
     "execution_count": 70,
     "metadata": {},
     "output_type": "execute_result"
    }
   ],
   "source": [
    "#1g\n",
    "sp.diff(sp.exp(4*x**2+8*x),x)"
   ]
  },
  {
   "cell_type": "code",
   "execution_count": 73,
   "id": "444cbbd2-0cd1-42fe-b107-a67d065408ea",
   "metadata": {},
   "outputs": [
    {
     "data": {
      "text/latex": [
       "$\\displaystyle - \\frac{1}{x}$"
      ],
      "text/plain": [
       "-1/x"
      ]
     },
     "execution_count": 73,
     "metadata": {},
     "output_type": "execute_result"
    }
   ],
   "source": [
    "#1h\n",
    "sp.diff(sp.log(1/x),x)"
   ]
  },
  {
   "cell_type": "code",
   "execution_count": 77,
   "id": "b36981e9-d7c1-4ea9-8a09-44dc437b7880",
   "metadata": {},
   "outputs": [
    {
     "data": {
      "text/latex": [
       "$\\displaystyle 12 e^{12 x} + \\frac{1}{x}$"
      ],
      "text/plain": [
       "12*exp(12*x) + 1/x"
      ]
     },
     "execution_count": 77,
     "metadata": {},
     "output_type": "execute_result"
    }
   ],
   "source": [
    "#1i\n",
    "sp.diff(sp.log(6*x) + sp.exp(3*4*x),x)"
   ]
  },
  {
   "cell_type": "code",
   "execution_count": 78,
   "id": "695fdc09-2c95-470b-9324-8afb36f3be24",
   "metadata": {},
   "outputs": [
    {
     "data": {
      "text/latex": [
       "$\\displaystyle - x e^{- x} + e^{- x}$"
      ],
      "text/plain": [
       "-x*exp(-x) + exp(-x)"
      ]
     },
     "execution_count": 78,
     "metadata": {},
     "output_type": "execute_result"
    }
   ],
   "source": [
    "#j\n",
    "sp.diff(x*sp.exp(-x),x)"
   ]
  },
  {
   "cell_type": "code",
   "execution_count": 80,
   "id": "c04c173d-57e4-4ead-acf4-376bc67c4ffb",
   "metadata": {},
   "outputs": [
    {
     "data": {
      "text/latex": [
       "$\\displaystyle \\frac{2 x^{3}}{x^{2} + 2} + 2 x \\log{\\left(x^{2} + 2 \\right)}$"
      ],
      "text/plain": [
       "2*x**3/(x**2 + 2) + 2*x*log(x**2 + 2)"
      ]
     },
     "execution_count": 80,
     "metadata": {},
     "output_type": "execute_result"
    }
   ],
   "source": [
    "#k\n",
    "sp.diff(x**2*sp.log(x**2+2),x)\n"
   ]
  },
  {
   "cell_type": "code",
   "execution_count": null,
   "id": "f5386324-9151-4c41-a291-19b3d6154a7c",
   "metadata": {},
   "outputs": [],
   "source": [
    "#oppgave 2\n"
   ]
  },
  {
   "cell_type": "code",
   "execution_count": 81,
   "id": "8f512d01-d269-487c-acc0-01f5de857b2c",
   "metadata": {},
   "outputs": [
    {
     "data": {
      "text/latex": [
       "$\\displaystyle 2 x^{3} e^{2 x} + 3 x^{2} e^{2 x}$"
      ],
      "text/plain": [
       "2*x**3*exp(2*x) + 3*x**2*exp(2*x)"
      ]
     },
     "execution_count": 81,
     "metadata": {},
     "output_type": "execute_result"
    }
   ],
   "source": [
    "#a\n",
    "sp.diff(x**3*sp.exp(2*x),x)"
   ]
  },
  {
   "cell_type": "code",
   "execution_count": 85,
   "id": "37953747-74ac-41ba-9ce9-6eba14393c56",
   "metadata": {},
   "outputs": [
    {
     "data": {
      "text/latex": [
       "$\\displaystyle \\frac{2 x + \\frac{2}{x^{3}}}{x^{2} + 1 - \\frac{1}{x^{2}}}$"
      ],
      "text/plain": [
       "(2*x + 2/x**3)/(x**2 + 1 - 1/x**2)"
      ]
     },
     "execution_count": 85,
     "metadata": {},
     "output_type": "execute_result"
    }
   ],
   "source": [
    "#b\n",
    "sp.diff(sp.log(x**2-1/x**2+1),x)"
   ]
  },
  {
   "cell_type": "code",
   "execution_count": 86,
   "id": "1228d3cd-dd13-4d6b-9cbf-b26b56c0333f",
   "metadata": {},
   "outputs": [
    {
     "data": {
      "text/latex": [
       "$\\displaystyle \\frac{2 x^{3}}{x^{2} + 2} + 2 x \\log{\\left(x^{2} + 2 \\right)}$"
      ],
      "text/plain": [
       "2*x**3/(x**2 + 2) + 2*x*log(x**2 + 2)"
      ]
     },
     "execution_count": 86,
     "metadata": {},
     "output_type": "execute_result"
    }
   ],
   "source": [
    "#c\n",
    "sp.diff(x**2*sp.log(x**2+2),x)"
   ]
  },
  {
   "cell_type": "code",
   "execution_count": null,
   "id": "f5c5ac0e-684e-480d-b573-bad4ec209fc8",
   "metadata": {},
   "outputs": [],
   "source": [
    "#d\n",
    "sp.diff(sp.exp(-x)/x**2+1,x)"
   ]
  }
 ],
 "metadata": {
  "kernelspec": {
   "display_name": "Python 3 (ipykernel)",
   "language": "python",
   "name": "python3"
  },
  "language_info": {
   "codemirror_mode": {
    "name": "ipython",
    "version": 3
   },
   "file_extension": ".py",
   "mimetype": "text/x-python",
   "name": "python",
   "nbconvert_exporter": "python",
   "pygments_lexer": "ipython3",
   "version": "3.9.13"
  }
 },
 "nbformat": 4,
 "nbformat_minor": 5
}
